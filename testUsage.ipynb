{
 "cells": [
  {
   "cell_type": "code",
   "execution_count": 1,
   "metadata": {},
   "outputs": [],
   "source": [
    "from pyxnat import Interface\n",
    "import xmltodict\n",
    "import xnat_downloader.cli.run as run\n",
    "from pyxnat import Inspector\n",
    "import os"
   ]
  },
  {
   "cell_type": "markdown",
   "metadata": {},
   "source": [
    "### Play 04/11/2018"
   ]
  },
  {
   "cell_type": "code",
   "execution_count": 18,
   "metadata": {},
   "outputs": [
    {
     "name": "stdout",
     "output_type": "stream",
     "text": [
      "········\n"
     ]
    }
   ],
   "source": [
    "central = Interface(server=\"https://central.xnat.org\", user='')\n"
   ]
  },
  {
   "cell_type": "code",
   "execution_count": 19,
   "metadata": {},
   "outputs": [
    {
     "data": {
      "text/plain": [
       "False"
      ]
     },
     "execution_count": 19,
     "metadata": {},
     "output_type": "execute_result"
    }
   ],
   "source": [
    "project = 'xnatDownload'\n",
    "subject = 'sub-001'\n",
    "proj_obj = central.select.project(project)\n",
    "proj_obj.exists()"
   ]
  },
  {
   "cell_type": "code",
   "execution_count": 4,
   "metadata": {},
   "outputs": [],
   "source": [
    "testSub = run.Subject(proj_obj, subject)"
   ]
  },
  {
   "cell_type": "code",
   "execution_count": 5,
   "metadata": {},
   "outputs": [],
   "source": [
    "testSub.get_sessions()"
   ]
  },
  {
   "cell_type": "code",
   "execution_count": 6,
   "metadata": {},
   "outputs": [
    {
     "data": {
      "text/plain": [
       "{'01': <Experiment Object> CENTRAL_E74609}"
      ]
     },
     "execution_count": 6,
     "metadata": {},
     "output_type": "execute_result"
    }
   ],
   "source": [
    "testSub.ses_dict"
   ]
  },
  {
   "cell_type": "code",
   "execution_count": 7,
   "metadata": {},
   "outputs": [],
   "source": [
    "testSub.get_scans(testSub.ses_dict.keys()[0])"
   ]
  },
  {
   "cell_type": "code",
   "execution_count": 8,
   "metadata": {},
   "outputs": [
    {
     "data": {
      "text/plain": [
       "{'3Plane Loc SSFSE': <Scan Object> 1,\n",
       " 'ASSET Cal': <Scan Object> 2,\n",
       " 'PU:anat-FLAIR': <Scan Object> 12,\n",
       " 'PU:anat-T1w': <Scan Object> 11,\n",
       " 'PU:func-bold_task-breathhold': <Scan Object> 14,\n",
       " 'PU:func-bold_task-rest_run-01': <Scan Object> 13,\n",
       " 'anat-FLAIR': <Scan Object> 4,\n",
       " 'anat-T1rho_acq-sl10': <Scan Object> 10,\n",
       " 'anat-T1rho_acq-sl50': <Scan Object> 9,\n",
       " 'anat-T1w': <Scan Object> 3,\n",
       " 'dwi': <Scan Object> 5,\n",
       " 'fmap_dir-AP': <Scan Object> 6,\n",
       " 'func-bold_task-breathhold': <Scan Object> 8,\n",
       " 'func-bold_task-rest_run-01': <Scan Object> 7}"
      ]
     },
     "execution_count": 8,
     "metadata": {},
     "output_type": "execute_result"
    }
   ],
   "source": [
    "testSub.scan_dict"
   ]
  },
  {
   "cell_type": "code",
   "execution_count": 10,
   "metadata": {},
   "outputs": [
    {
     "name": "stdout",
     "output_type": "stream",
     "text": [
      "\n",
      "                  dicoms were already found in the output directory: /home/james/Documents/myTestBIDS/sourcedata/sub-001_ses-01/scans/11-PU_anat_T1w/resources/DICOM/files/image-000001.dcm\n",
      "                  \n"
     ]
    }
   ],
   "source": [
    "testSub.download_scan('PU:anat-T1w', '/home/james/Documents/myTestBIDS')"
   ]
  },
  {
   "cell_type": "markdown",
   "metadata": {},
   "source": [
    "\n",
    "### Play 04/10/2018\n"
   ]
  },
  {
   "cell_type": "code",
   "execution_count": 2,
   "metadata": {},
   "outputs": [
    {
     "name": "stdout",
     "output_type": "stream",
     "text": [
      "User: jdkent\n",
      "········\n"
     ]
    }
   ],
   "source": [
    "central = Interface(server=\"https://rpacs.iibi.uiowa.edu/xnat\")"
   ]
  },
  {
   "cell_type": "code",
   "execution_count": 3,
   "metadata": {},
   "outputs": [
    {
     "data": {
      "text/plain": [
       "True"
      ]
     },
     "execution_count": 3,
     "metadata": {},
     "output_type": "execute_result"
    }
   ],
   "source": [
    "project = r'BIKE_EXTEND'\n",
    "subject = r'sub-999'\n",
    "proj_obj = central.select.project(project)\n",
    "proj_obj.exists()"
   ]
  },
  {
   "cell_type": "code",
   "execution_count": 4,
   "metadata": {},
   "outputs": [],
   "source": [
    "testSub = run.Subject(proj_obj, subject)"
   ]
  },
  {
   "cell_type": "code",
   "execution_count": 5,
   "metadata": {},
   "outputs": [],
   "source": [
    "sub_objs = proj_obj.subjects()\n",
    "# list the subjects by their label (e.g. sub-myname)\n",
    "# instead of the RPACS_1223 ID given to them\n",
    "sub_objs._id_header = 'label'\n",
    "subjects = sub_objs.get()"
   ]
  },
  {
   "cell_type": "code",
   "execution_count": 6,
   "metadata": {},
   "outputs": [],
   "source": [
    "testSub.get_sessions()\n"
   ]
  },
  {
   "cell_type": "code",
   "execution_count": 7,
   "metadata": {},
   "outputs": [
    {
     "data": {
      "text/plain": [
       "{'activepre': <Experiment Object> RPACS_E22565}"
      ]
     },
     "execution_count": 7,
     "metadata": {},
     "output_type": "execute_result"
    }
   ],
   "source": [
    "testSub.ses_dict"
   ]
  },
  {
   "cell_type": "code",
   "execution_count": 8,
   "metadata": {},
   "outputs": [],
   "source": [
    "testSub.get_scans(testSub.ses_dict.keys()[0])"
   ]
  },
  {
   "cell_type": "code",
   "execution_count": 9,
   "metadata": {},
   "outputs": [
    {
     "name": "stdout",
     "output_type": "stream",
     "text": [
      "\n",
      "                  dicoms were already found in the output directory: /home/james/Documents/myTestBIDS/sourcedata/sub-999_ses-activepre/scans/400-PU_anat_FLAIR/resources/DICOM/files/1.2.840.113619.6.410.190231530529691590095155468966648499671-400-264-1tj71m9.dcm\n",
      "                  \n"
     ]
    }
   ],
   "source": [
    "testSub.download_scan('PU:anat-FLAIR', '/home/james/Documents/myTestBIDS')"
   ]
  },
  {
   "cell_type": "code",
   "execution_count": null,
   "metadata": {},
   "outputs": [],
   "source": [
    "scan_obj = testSub.scan_dict['PU:anat-FLAIR']\n",
    "scan_res = scan_obj.resources()\n",
    "scan_files = scan_res.files()\n",
    "exp_obj = scan_obj.parent()\n",
    "help(scan_res)"
   ]
  },
  {
   "cell_type": "code",
   "execution_count": null,
   "metadata": {
    "scrolled": true
   },
   "outputs": [],
   "source": [
    "scans = testSub.ses_dict['activepre'].scans()"
   ]
  },
  {
   "cell_type": "code",
   "execution_count": null,
   "metadata": {},
   "outputs": [],
   "source": [
    "exp_obj.scans().download()"
   ]
  },
  {
   "cell_type": "code",
   "execution_count": null,
   "metadata": {},
   "outputs": [],
   "source": [
    "testSub.scan_dict['PU:anat-FLAIR'].id()\n"
   ]
  },
  {
   "cell_type": "code",
   "execution_count": null,
   "metadata": {},
   "outputs": [],
   "source": [
    "inspect = Inspector(central)"
   ]
  },
  {
   "cell_type": "code",
   "execution_count": null,
   "metadata": {},
   "outputs": [],
   "source": [
    "inspect.experiment_values('xnat:mrSessionData')\n"
   ]
  },
  {
   "cell_type": "code",
   "execution_count": null,
   "metadata": {},
   "outputs": [],
   "source": [
    "project = 'GE3T_DEV'\n",
    "subject = r'sub-voss01'\n",
    "project_1 = 'VOSS_PACRAD'\n",
    "subject_1 = '102'"
   ]
  },
  {
   "cell_type": "code",
   "execution_count": null,
   "metadata": {},
   "outputs": [],
   "source": [
    "proj_obj = central.select.project(project).subject(subject).experiments().get('')"
   ]
  },
  {
   "cell_type": "code",
   "execution_count": null,
   "metadata": {},
   "outputs": [],
   "source": [
    "all_subjects = central.select.project(project).subjects()"
   ]
  },
  {
   "cell_type": "code",
   "execution_count": null,
   "metadata": {},
   "outputs": [],
   "source": [
    "all_subjects.get()"
   ]
  },
  {
   "cell_type": "code",
   "execution_count": null,
   "metadata": {},
   "outputs": [],
   "source": [
    "type(proj_obj[0])"
   ]
  },
  {
   "cell_type": "code",
   "execution_count": null,
   "metadata": {},
   "outputs": [],
   "source": [
    "sub_xnat_path = '/project/{project}/subjects/{subject}'.format(subject=subject,\n",
    "                                                                       project=project)"
   ]
  },
  {
   "cell_type": "code",
   "execution_count": null,
   "metadata": {},
   "outputs": [],
   "source": [
    "sub_obj = central.pro(sub_xnat_path)"
   ]
  },
  {
   "cell_type": "code",
   "execution_count": null,
   "metadata": {},
   "outputs": [],
   "source": [
    "sub_obj.exists()"
   ]
  },
  {
   "cell_type": "code",
   "execution_count": null,
   "metadata": {},
   "outputs": [],
   "source": [
    "sub_dict = xmltodict.parse(sub_obj.get())\n",
    "session_labels = None\n",
    "sessions = \"ALL\""
   ]
  },
  {
   "cell_type": "code",
   "execution_count": null,
   "metadata": {},
   "outputs": [],
   "source": [
    "# participant\n",
    "sub_dict['xnat:Subject']['@label']"
   ]
  },
  {
   "cell_type": "code",
   "execution_count": null,
   "metadata": {},
   "outputs": [],
   "source": [
    "# sessions\n",
    "sub_dict['xnat:Subject']['xnat:experiments']['xnat:experiment']"
   ]
  },
  {
   "cell_type": "code",
   "execution_count": null,
   "metadata": {},
   "outputs": [],
   "source": [
    "# single session label\n",
    "sub_dict['xnat:Subject']['xnat:experiments']['xnat:experiment']['@label']"
   ]
  },
  {
   "cell_type": "code",
   "execution_count": null,
   "metadata": {},
   "outputs": [],
   "source": [
    "# scans\n",
    "sub_dict['xnat:Subject']['xnat:experiments']['xnat:experiment']['xnat:scans']['xnat:scan']"
   ]
  },
  {
   "cell_type": "code",
   "execution_count": null,
   "metadata": {},
   "outputs": [],
   "source": [
    "# single scan\n",
    "sub_dict['xnat:Subject']['xnat:experiments']['xnat:experiment']['xnat:scans']['xnat:scan'][3]"
   ]
  },
  {
   "cell_type": "code",
   "execution_count": null,
   "metadata": {},
   "outputs": [],
   "source": [
    "# scan type\n",
    "sub_dict['xnat:Subject']['xnat:experiments']['xnat:experiment']['xnat:scans']['xnat:scan'][3]['@type']"
   ]
  },
  {
   "cell_type": "code",
   "execution_count": null,
   "metadata": {},
   "outputs": [],
   "source": [
    "run.sort_sessions(sub_dict, session_labels, sessions)\n",
    "ses_labels = [None]"
   ]
  },
  {
   "cell_type": "code",
   "execution_count": null,
   "metadata": {},
   "outputs": [],
   "source": [
    "ses_list = [sub_dict['xnat:Subject']['xnat:experiments']['xnat:experiment']]"
   ]
  },
  {
   "cell_type": "code",
   "execution_count": null,
   "metadata": {},
   "outputs": [],
   "source": [
    "ses_list\n"
   ]
  },
  {
   "cell_type": "code",
   "execution_count": null,
   "metadata": {},
   "outputs": [],
   "source": [
    "session_tech_labels = [ses['@label'] for ses in ses_list]"
   ]
  },
  {
   "cell_type": "code",
   "execution_count": null,
   "metadata": {},
   "outputs": [],
   "source": [
    "session_tech_labels"
   ]
  },
  {
   "cell_type": "code",
   "execution_count": null,
   "metadata": {},
   "outputs": [],
   "source": [
    "upload_date = [run.get_time(ses) for ses in ses_list]"
   ]
  },
  {
   "cell_type": "code",
   "execution_count": null,
   "metadata": {},
   "outputs": [],
   "source": [
    "upload_date"
   ]
  },
  {
   "cell_type": "code",
   "execution_count": null,
   "metadata": {},
   "outputs": [],
   "source": [
    "session_info = zip(ses_list, upload_date, session_tech_labels, ses_labels)"
   ]
  },
  {
   "cell_type": "code",
   "execution_count": null,
   "metadata": {},
   "outputs": [],
   "source": [
    "session_info"
   ]
  },
  {
   "cell_type": "code",
   "execution_count": null,
   "metadata": {},
   "outputs": [],
   "source": [
    "session_info.sort(key=lambda x: x[1])"
   ]
  },
  {
   "cell_type": "code",
   "execution_count": null,
   "metadata": {},
   "outputs": [],
   "source": [
    "session_info\n",
    "ses_info = session_info[0]"
   ]
  },
  {
   "cell_type": "code",
   "execution_count": null,
   "metadata": {},
   "outputs": [],
   "source": [
    "ses_dict = ses_info[0]"
   ]
  },
  {
   "cell_type": "code",
   "execution_count": null,
   "metadata": {},
   "outputs": [],
   "source": [
    "project\n"
   ]
  },
  {
   "cell_type": "code",
   "execution_count": null,
   "metadata": {},
   "outputs": [],
   "source": [
    "central"
   ]
  },
  {
   "cell_type": "code",
   "execution_count": null,
   "metadata": {},
   "outputs": [],
   "source": [
    "tmp = sub_obj.resources()"
   ]
  },
  {
   "cell_type": "code",
   "execution_count": null,
   "metadata": {},
   "outputs": [],
   "source": [
    "tmp.get()"
   ]
  },
  {
   "cell_type": "code",
   "execution_count": null,
   "metadata": {},
   "outputs": [],
   "source": [
    "tmp2.get()"
   ]
  },
  {
   "cell_type": "code",
   "execution_count": null,
   "metadata": {},
   "outputs": [],
   "source": [
    "central.inspect.datatypes('xnat:subjectData')"
   ]
  },
  {
   "cell_type": "code",
   "execution_count": null,
   "metadata": {},
   "outputs": [],
   "source": [
    "central.inspect.experiment_types()"
   ]
  },
  {
   "cell_type": "code",
   "execution_count": null,
   "metadata": {},
   "outputs": [],
   "source": [
    "central.inspect.assessor_types()"
   ]
  },
  {
   "cell_type": "code",
   "execution_count": null,
   "metadata": {},
   "outputs": [],
   "source": [
    "central.inspect.scan_types()"
   ]
  },
  {
   "cell_type": "code",
   "execution_count": null,
   "metadata": {},
   "outputs": [],
   "source": [
    "central.inspect.structure()"
   ]
  },
  {
   "cell_type": "code",
   "execution_count": null,
   "metadata": {},
   "outputs": [],
   "source": [
    "central.select('//experiments').get()"
   ]
  },
  {
   "cell_type": "code",
   "execution_count": null,
   "metadata": {},
   "outputs": [],
   "source": [
    "constr = [('xnat:mrSessionData/PROJECT', '=', project)]\n",
    "test_get  = central.select('xnat:mrScanData').where(constr)"
   ]
  },
  {
   "cell_type": "code",
   "execution_count": null,
   "metadata": {},
   "outputs": [],
   "source": [
    "test_get.as_list()"
   ]
  },
  {
   "cell_type": "code",
   "execution_count": null,
   "metadata": {},
   "outputs": [],
   "source": [
    "central.inspect.datatypes()"
   ]
  },
  {
   "cell_type": "code",
   "execution_count": null,
   "metadata": {},
   "outputs": [],
   "source": [
    "central.inspect.datatypes('xnat:projectData')"
   ]
  },
  {
   "cell_type": "code",
   "execution_count": null,
   "metadata": {},
   "outputs": [],
   "source": [
    "central.inspect.datatypes('xnat:mrSessionData')"
   ]
  },
  {
   "cell_type": "code",
   "execution_count": null,
   "metadata": {},
   "outputs": [],
   "source": [
    "contraints = [('xnat:mrSessionData/Project','=', project)]"
   ]
  },
  {
   "cell_type": "code",
   "execution_count": null,
   "metadata": {},
   "outputs": [],
   "source": [
    "var = central.select('xnat:mrSessionData', ['xnat:mrSessionData/SUBJECT_ID', 'xnat:mrSessionData/AGE']).where(contraints)"
   ]
  },
  {
   "cell_type": "code",
   "execution_count": null,
   "metadata": {},
   "outputs": [],
   "source": [
    "var."
   ]
  },
  {
   "cell_type": "code",
   "execution_count": null,
   "metadata": {},
   "outputs": [],
   "source": [
    "central.inspect.datatypes('xnat:projectData')"
   ]
  },
  {
   "cell_type": "code",
   "execution_count": null,
   "metadata": {},
   "outputs": [],
   "source": [
    "constraints = [('xnat:otherDicomSessionData/PROJECT','=', project)]"
   ]
  },
  {
   "cell_type": "code",
   "execution_count": null,
   "metadata": {},
   "outputs": [],
   "source": [
    "var2 = central.select('xnat:xnat:otherDicomSessionData', ['xnat:mrSessionData/SUBJECT_ID', 'xnat:mrSessionData/AGE']).where(contraints)"
   ]
  },
  {
   "cell_type": "code",
   "execution_count": null,
   "metadata": {},
   "outputs": [],
   "source": [
    "central.select('//subjects').get('ID')"
   ]
  },
  {
   "cell_type": "code",
   "execution_count": null,
   "metadata": {},
   "outputs": [],
   "source": [
    "proj_obj = central.select.project(project)\n",
    "\n",
    "scan_obj = central.select.project(project).subject(subject).experiment('20180131').scans().get('')[11]\n",
    "all_scans = central.select.project(project).subject(subject).experiment('20180131').scans()"
   ]
  },
  {
   "cell_type": "code",
   "execution_count": null,
   "metadata": {},
   "outputs": [],
   "source": [
    "ses_obj = central.select.project(project_1).subject(subject_1).experiment('20160218').scans()\n",
    "first_scan = ses_obj.get('')[0]\n",
    "\n",
    "# rsrce_obj = first_scan.resources().get('')\n",
    "# fil = rsrce_obj.files().get('')[0]\n",
    "parent_obj = first_scan.parent().label()\n",
    "# parent_obj.label()\n",
    "parent_obj\n",
    "first_scan.id()"
   ]
  },
  {
   "cell_type": "code",
   "execution_count": null,
   "metadata": {},
   "outputs": [],
   "source": [
    "all_scans.download(dest_dir='/home/james/Documents', type='task-block_bold', extract=True)"
   ]
  },
  {
   "cell_type": "code",
   "execution_count": null,
   "metadata": {},
   "outputs": [],
   "source": [
    "scan_files = scan_rce.files()"
   ]
  },
  {
   "cell_type": "code",
   "execution_count": null,
   "metadata": {},
   "outputs": [],
   "source": [
    "dicom_rce = scan_obj.resource('DICOM')"
   ]
  },
  {
   "cell_type": "code",
   "execution_count": null,
   "metadata": {},
   "outputs": [],
   "source": [
    "all_files = dicom_rce.files()"
   ]
  },
  {
   "cell_type": "code",
   "execution_count": null,
   "metadata": {},
   "outputs": [],
   "source": [
    "file_ex = all_files.get('')[0]"
   ]
  },
  {
   "cell_type": "code",
   "execution_count": null,
   "metadata": {},
   "outputs": [],
   "source": [
    "file_ex.get_copy('/home/james/')"
   ]
  },
  {
   "cell_type": "code",
   "execution_count": null,
   "metadata": {},
   "outputs": [],
   "source": [
    "sub_obj = proj_obj.subjects()"
   ]
  },
  {
   "cell_type": "code",
   "execution_count": null,
   "metadata": {},
   "outputs": [],
   "source": [
    "sub_obj"
   ]
  },
  {
   "cell_type": "code",
   "execution_count": null,
   "metadata": {},
   "outputs": [],
   "source": [
    "sub_obj.get('ID')\n"
   ]
  },
  {
   "cell_type": "code",
   "execution_count": null,
   "metadata": {},
   "outputs": [],
   "source": [
    "subject = proj_obj.subject('sub-voss01')"
   ]
  },
  {
   "cell_type": "code",
   "execution_count": null,
   "metadata": {},
   "outputs": [],
   "source": [
    "subject.experiments()\n"
   ]
  },
  {
   "cell_type": "code",
   "execution_count": null,
   "metadata": {},
   "outputs": [],
   "source": []
  },
  {
   "cell_type": "code",
   "execution_count": null,
   "metadata": {},
   "outputs": [],
   "source": [
    "ses_obj = subject.experiments()\n"
   ]
  },
  {
   "cell_type": "code",
   "execution_count": null,
   "metadata": {},
   "outputs": [],
   "source": [
    "# have to run twice to get the correct result (e.g. the date)\n",
    "ses_obj.get('label')"
   ]
  },
  {
   "cell_type": "code",
   "execution_count": null,
   "metadata": {},
   "outputs": [],
   "source": [
    "test_ses_first = ses_obj.first()\n"
   ]
  },
  {
   "cell_type": "code",
   "execution_count": null,
   "metadata": {},
   "outputs": [],
   "source": [
    "test_scans = test_ses_first.scans()"
   ]
  },
  {
   "cell_type": "code",
   "execution_count": null,
   "metadata": {},
   "outputs": [],
   "source": [
    "scan = test_scans.fetchone()"
   ]
  },
  {
   "cell_type": "code",
   "execution_count": null,
   "metadata": {},
   "outputs": [],
   "source": [
    "scan"
   ]
  },
  {
   "cell_type": "code",
   "execution_count": null,
   "metadata": {},
   "outputs": [],
   "source": [
    "test_ses_first.attrs.get()"
   ]
  },
  {
   "cell_type": "code",
   "execution_count": null,
   "metadata": {},
   "outputs": [],
   "source": [
    "scans_obj = ses_obj.scans()"
   ]
  },
  {
   "cell_type": "code",
   "execution_count": null,
   "metadata": {},
   "outputs": [],
   "source": [
    "scan_tmp = scans_obj.get()[4]"
   ]
  },
  {
   "cell_type": "code",
   "execution_count": null,
   "metadata": {},
   "outputs": [],
   "source": [
    "# how to access scan type\n",
    "scan_tmp.attrs.get('type')"
   ]
  },
  {
   "cell_type": "code",
   "execution_count": null,
   "metadata": {},
   "outputs": [],
   "source": [
    "rsrcs = scans_obj.resources()"
   ]
  },
  {
   "cell_type": "code",
   "execution_count": null,
   "metadata": {},
   "outputs": [],
   "source": [
    "tmp_first = rsrcs.first()"
   ]
  },
  {
   "cell_type": "code",
   "execution_count": null,
   "metadata": {},
   "outputs": [],
   "source": [
    "tmp = tmp_first.files()"
   ]
  },
  {
   "cell_type": "code",
   "execution_count": null,
   "metadata": {},
   "outputs": [],
   "source": []
  },
  {
   "cell_type": "code",
   "execution_count": null,
   "metadata": {},
   "outputs": [],
   "source": [
    "scan1 = scans_obj.resource('1')"
   ]
  },
  {
   "cell_type": "code",
   "execution_count": null,
   "metadata": {},
   "outputs": [],
   "source": [
    "scan1.files().get()"
   ]
  },
  {
   "cell_type": "code",
   "execution_count": null,
   "metadata": {},
   "outputs": [],
   "source": [
    "scans_obj.resources"
   ]
  },
  {
   "cell_type": "code",
   "execution_count": null,
   "metadata": {},
   "outputs": [],
   "source": [
    "rsrcs.get('series_description')"
   ]
  },
  {
   "cell_type": "code",
   "execution_count": null,
   "metadata": {},
   "outputs": [],
   "source": [
    "scans_obj._get_array"
   ]
  },
  {
   "cell_type": "code",
   "execution_count": null,
   "metadata": {},
   "outputs": [],
   "source": [
    "central.inspect.datatypes('xnat:mrScanData')"
   ]
  },
  {
   "cell_type": "markdown",
   "metadata": {},
   "source": [
    "## Test data: 05/08/2018"
   ]
  },
  {
   "cell_type": "code",
   "execution_count": null,
   "metadata": {},
   "outputs": [],
   "source": [
    "sub_obj.attrs.get('label').zfill(3)"
   ]
  },
  {
   "cell_type": "code",
   "execution_count": 2,
   "metadata": {},
   "outputs": [
    {
     "name": "stdout",
     "output_type": "stream",
     "text": [
      "User: xnatTest\n",
      "········\n"
     ]
    }
   ],
   "source": [
    "central = Interface(server=\"https://central.xnat.org\")"
   ]
  },
  {
   "cell_type": "code",
   "execution_count": 3,
   "metadata": {},
   "outputs": [
    {
     "data": {
      "text/plain": [
       "True"
      ]
     },
     "execution_count": 3,
     "metadata": {},
     "output_type": "execute_result"
    }
   ],
   "source": [
    "project = 'xnatDownload'\n",
    "subject = '21'\n",
    "proj_obj = central.select.project(project)\n",
    "proj_obj.exists()"
   ]
  },
  {
   "cell_type": "code",
   "execution_count": 4,
   "metadata": {},
   "outputs": [],
   "source": [
    "testSub = run.Subject(proj_obj, subject)"
   ]
  },
  {
   "cell_type": "code",
   "execution_count": 5,
   "metadata": {},
   "outputs": [],
   "source": [
    "testSub.get_sessions()\n",
    "ses_label = testSub.ses_dict.keys()[0]\n",
    "testSub.get_scans(ses_label)"
   ]
  },
  {
   "cell_type": "code",
   "execution_count": 6,
   "metadata": {},
   "outputs": [
    {
     "data": {
      "text/plain": [
       "{'3D ASL': <Scan Object> 10,\n",
       " '3Plane Loc SSFSE': <Scan Object> 1,\n",
       " 'ASSET Cal': <Scan Object> 2,\n",
       " 'Cerebral Blood Flow': <Scan Object> 1000,\n",
       " 'DTI': <Scan Object> 9,\n",
       " 'Field Map': <Scan Object> 6,\n",
       " 'NOT DIAGNOSTIC: PFile-PROBE-SV 35': <Scan Object> 1100,\n",
       " 'PROBE-SV 35': <Scan Object> 11,\n",
       " 'PU:SAG FSPGR BRAVO': <Scan Object> 300,\n",
       " 'PU:fMRI Resting State': <Scan Object> 700,\n",
       " 'PU:fMRI SIMON': <Scan Object> 800,\n",
       " 'SAG FSPGR BRAVO': <Scan Object> 3,\n",
       " 'T1rho - SL10 (NO AUTO PRESCAN)': <Scan Object> 5,\n",
       " 'T1rho - SL50': <Scan Object> 4,\n",
       " 'fMRI Resting State': <Scan Object> 7,\n",
       " 'fMRI SIMON': <Scan Object> 8}"
      ]
     },
     "execution_count": 6,
     "metadata": {},
     "output_type": "execute_result"
    }
   ],
   "source": [
    "testSub.scan_dict"
   ]
  },
  {
   "cell_type": "code",
   "execution_count": 7,
   "metadata": {},
   "outputs": [
    {
     "name": "stdout",
     "output_type": "stream",
     "text": [
      "\n",
      "                  dicoms were already found in the output directory: /home/james/Downloads/sourcedata/20180504/scans/5-T1rho___SL10__NO_AUTO_PRESCAN_/resources/DICOM/files/21.MR.VOSS_AGING.5.1.20170622.082643.160072.219.dcm\n",
      "                  \n"
     ]
    }
   ],
   "source": [
    "scan = \"T1rho - SL10 (NO AUTO PRESCAN)\"\n",
    "dest = '/home/james/Downloads'\n",
    "scan_repl_dict = {\n",
    "                    \"SAG FSPGR BRAVO\": \"anat-T1w\",\n",
    "                    \"Field Map\": \"fmap\",\n",
    "                    \"T1rho - SL50\": \"anat-T1rho_acq-SL50\",\n",
    "                    \"T1rho - SL10 (NO AUTO PRESCAN)\": \"anat-T1rho_acq-SL10\",\n",
    "                    \"fMRI Resting State\": \"func-bold_task-rest\",\n",
    "                    \"fMRI SIMON\": \"func-bold_task-simon\",\n",
    "                    \"DTI\": \"dwi\",\n",
    "                    \"3D ASL\": \"func-asl\",\n",
    "                    \"PROBE-SV 35\": \"mrs-fid\",\n",
    "                    \"PU:SAG FSPGR BRAVO\": \"anat-T1w_rec-pu\",\n",
    "                    \"PU:fMRI Resting State\": \"func-bold_task-rest_rec-pu\",\n",
    "                    \"PU:fMRI SIMON\": \"func-bold_task-simon_rec-pu\",\n",
    "                    \"Cerebral Blood Flow\": \"func-asl_rec-cbf\",\n",
    "                    \"NOT DIAGNOSTIC: PFile-PROBE-SV 35\": \"mrs-fid_rec-pfile\"\n",
    "                }\n",
    "bids_num_len = 3\n",
    "testSub.download_scan_unformatted(scan, dest, scan_repl_dict, bids_num_len)"
   ]
  },
  {
   "cell_type": "code",
   "execution_count": null,
   "metadata": {},
   "outputs": [],
   "source": []
  }
 ],
 "metadata": {
  "kernelspec": {
   "display_name": "Python 2",
   "language": "python",
   "name": "python2"
  },
  "language_info": {
   "codemirror_mode": {
    "name": "ipython",
    "version": 2
   },
   "file_extension": ".py",
   "mimetype": "text/x-python",
   "name": "python",
   "nbconvert_exporter": "python",
   "pygments_lexer": "ipython2",
   "version": "2.7.15"
  }
 },
 "nbformat": 4,
 "nbformat_minor": 2
}
